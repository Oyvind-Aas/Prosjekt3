{
 "cells": [
  {
   "cell_type": "code",
   "execution_count": null,
   "metadata": {},
   "outputs": [],
   "source": [
    "mean_f=np.mean(faces[:,:,:,:],axis=-1)\n",
    "plt.imshow(mean_f[:,:,:])\n",
    "ranks=np.zeros(4)\n",
    "for i in range(4):\n",
    "    ranks[i]=np.linalg.matrix_rank(mean_f[:,:,i])\n",
    "print(ranks)"
   ]
  }
 ],
 "metadata": {
  "kernelspec": {
   "display_name": "Python 3",
   "language": "python",
   "name": "python3"
  },
  "language_info": {
   "codemirror_mode": {
    "name": "ipython",
    "version": 3
   },
   "file_extension": ".py",
   "mimetype": "text/x-python",
   "name": "python",
   "nbconvert_exporter": "python",
   "pygments_lexer": "ipython3",
   "version": "3.8.5"
  }
 },
 "nbformat": 4,
 "nbformat_minor": 4
}
