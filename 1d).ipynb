{
 "cells": [
  {
   "cell_type": "code",
   "execution_count": null,
   "metadata": {},
   "outputs": [],
   "source": [
    "A1 = np.array([[1,0],[0,1]])\n",
    "A2 = np.array([[1,2],[1,1],[1,2]])\n",
    "\n",
    "W1, H1 = NMF(A1,2,maxiter=10000)\n",
    "W2, H2 = NMF(A2,2,maxiter=10000)\n",
    "\n",
    "print(f\"Frobenius norm of the difference A1-WH: {np.linalg.norm(A1-W1@H1):.3e}\")\n",
    "print(f\"Frobenius norm of the difference A2-WH: {np.linalg.norm(A2-W2@H2):.3e}\")"
   ]
  },
  {
   "cell_type": "markdown",
   "metadata": {},
   "source": [
    "As we can see, the norm is practically zero after $1000$ iterations with orders less than $10^{-8}$. The results appear reasonable given that the two matrices are small and simple."
   ]
  }
 ],
 "metadata": {
  "interpreter": {
   "hash": "6f004b9c01f95a32b6a5c8b7225fcdbc935475c2761231ea313ded852194b933"
  },
  "kernelspec": {
   "display_name": "Python 3.9.7 ('base')",
   "language": "python",
   "name": "python3"
  },
  "language_info": {
   "codemirror_mode": {
    "name": "ipython",
    "version": 3
   },
   "file_extension": ".py",
   "mimetype": "text/x-python",
   "name": "python",
   "nbconvert_exporter": "python",
   "pygments_lexer": "ipython3",
   "version": "3.9.7"
  },
  "orig_nbformat": 4
 },
 "nbformat": 4,
 "nbformat_minor": 2
}
