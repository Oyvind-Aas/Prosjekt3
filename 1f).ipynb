{
 "cells": [
  {
   "cell_type": "code",
   "execution_count": null,
   "metadata": {},
   "outputs": [],
   "source": [
    "eig_3 = np.linalg.eig(A_3)\n",
    "eig_4 = np.linalg.eig(A_4)\n",
    "print('The eigenvalues of A3 are: ', eig_3[0], 'The eigenvalues of A3 are: ', eig_4[0])"
   ]
  },
  {
   "cell_type": "markdown",
   "metadata": {},
   "source": [
    "**Comment: ** The last eigenvalue of matrix $A_3$ is near machine accuracy of 0, so we assume it to be zero. Therefore the matrix $A_3$ has rank 2, whereas matrix $A_4$ has rank 3"
   ]
  }
 ],
 "metadata": {
  "language_info": {
   "name": "python"
  },
  "orig_nbformat": 4
 },
 "nbformat": 4,
 "nbformat_minor": 2
}
