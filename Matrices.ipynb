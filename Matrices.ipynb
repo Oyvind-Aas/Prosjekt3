{
 "cells": [
  {
   "cell_type": "code",
   "execution_count": null,
   "metadata": {},
   "outputs": [],
   "source": [
    "A_1 = np.array([[1,0],\n",
    "                [0,1]])\n",
    "\n",
    "A_2 = np.array([[1,2],\n",
    "                [1,1],\n",
    "                [1,2]])\n",
    "\n",
    "A_3 = np.array([[2,1,1],\n",
    "                [2,1,1],\n",
    "                [1,1,2]])\n",
    "\n",
    "A_4 = np.array([[2,1,0],\n",
    "                [1,2,3],\n",
    "                [0,3,3]])"
   ]
  }
 ],
 "metadata": {
  "language_info": {
   "name": "python"
  },
  "orig_nbformat": 4
 },
 "nbformat": 4,
 "nbformat_minor": 2
}
