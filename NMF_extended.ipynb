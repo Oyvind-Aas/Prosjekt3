{
 "cells": [
  {
   "cell_type": "code",
   "execution_count": null,
   "metadata": {},
   "outputs": [],
   "source": [
    "def NMF(V, d, delta = 1e-9, maxiter = 1000, seed = 0):\n",
    "    \"\"\"\n",
    "    ((Skriv en forklaring på hva funksjonen gjør her))\n",
    "    input:\n",
    "        V: (m,n) input array\n",
    "        d: integer, Number of components we want to decompose V into\n",
    "        delta, float, small number for safe division\n",
    "        maxiter: integer, maximum number of iterations\n",
    "        seed: integer, random seed\n",
    "    output:\n",
    "        W: (m,d) array\n",
    "        H: (d,n) array\n",
    "    \"\"\"\n",
    "\n",
    "    if seed != 0:\n",
    "        np.random.seed(seed)\n",
    "\n",
    "    # Initialize W and H as matrices with random numbers between 0 and 1\n",
    "    m , n = V.shape\n",
    "    W = np.random.random(size = (m, d))\n",
    "    H = np.random.random(size = (d, n))\n",
    "    \n",
    "    # Scale initial values\n",
    "    W = W * np.sqrt(V.mean()/d)\n",
    "    H = H * np.sqrt(V.mean()/d)\n",
    "\n",
    "    fro_norm = np.zeros(maxiter)\n",
    "\n",
    "    # Update W and H\n",
    "    for i in range(maxiter):\n",
    "        H = H * (W.T @ V) / (W.T @ W @ H + delta)\n",
    "        W = W * (V @ H.T) / (W @ H @ H.T + delta)\n",
    "        fro_norm[i] = np.linalg.norm(V - W@H, ord='fro')\n",
    "\n",
    "    return W, H, fro_norm"
   ]
  }
 ],
 "metadata": {
  "language_info": {
   "name": "python"
  },
  "orig_nbformat": 4
 },
 "nbformat": 4,
 "nbformat_minor": 2
}
