{
 "cells": [
  {
   "cell_type": "code",
   "execution_count": null,
   "metadata": {},
   "outputs": [],
   "source": [
    "d_list = [1,2,3]\n",
    "maxiter = 1000\n",
    "norm_A3 = np.zeros((3, maxiter))\n",
    "norm_A4 = np.zeros((3, maxiter))\n",
    "iter = np.linspace(0, maxiter, maxiter)\n",
    "fig, (ax1, ax2) = plt.subplots(1, 2 , figsize=(15, 6))\n",
    "for i in range(len(d_list)):\n",
    "    d = d_list[i]\n",
    "    W_3, H_3, norm_A3[i] = NMF(A_3, d, maxiter=maxiter)\n",
    "    W_4, H_4, norm_A4[i] = NMF(A_4, d, maxiter=maxiter)\n",
    "    ax1.semilogy(iter, norm_A3[i], label = f\"d = {d}\")\n",
    "    ax2.semilogy(iter, norm_A4[i], label = f\"d = {d}\")\n",
    "ax1.legend()\n",
    "ax1.set_title('A3')\n",
    "ax1.set_xlabel('Iteration')\n",
    "ax1.set_ylabel('Frobenius norm')\n",
    "ax2.legend()\n",
    "ax2.set_title('A4')\n",
    "ax2.set_xlabel('Iteration')\n",
    "ax2.set_ylabel('Frobenius norm')\n",
    "plt.plot()"
   ]
  }
 ],
 "metadata": {
  "language_info": {
   "name": "python"
  },
  "orig_nbformat": 4
 },
 "nbformat": 4,
 "nbformat_minor": 2
}
